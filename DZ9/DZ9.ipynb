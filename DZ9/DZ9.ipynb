{
 "cells": [
  {
   "cell_type": "code",
   "execution_count": 1,
   "id": "3d791705",
   "metadata": {},
   "outputs": [],
   "source": [
    "import pandas as pd\n",
    "import seaborn as sns\n",
    "import scipy.stats as stats\n",
    "import numpy as np\n",
    "from statsmodels.stats.proportion import proportions_ztest"
   ]
  },
  {
   "cell_type": "markdown",
   "id": "460d38d0",
   "metadata": {},
   "source": [
    "### Загружаем данные:"
   ]
  },
  {
   "cell_type": "code",
   "execution_count": 2,
   "id": "c397ccab",
   "metadata": {},
   "outputs": [
    {
     "data": {
      "text/html": [
       "<div>\n",
       "<style scoped>\n",
       "    .dataframe tbody tr th:only-of-type {\n",
       "        vertical-align: middle;\n",
       "    }\n",
       "\n",
       "    .dataframe tbody tr th {\n",
       "        vertical-align: top;\n",
       "    }\n",
       "\n",
       "    .dataframe thead th {\n",
       "        text-align: right;\n",
       "    }\n",
       "</style>\n",
       "<table border=\"1\" class=\"dataframe\">\n",
       "  <thead>\n",
       "    <tr style=\"text-align: right;\">\n",
       "      <th></th>\n",
       "      <th>userid</th>\n",
       "      <th>version</th>\n",
       "      <th>sum_gamerounds</th>\n",
       "      <th>retention_1</th>\n",
       "      <th>retention_7</th>\n",
       "    </tr>\n",
       "  </thead>\n",
       "  <tbody>\n",
       "    <tr>\n",
       "      <th>0</th>\n",
       "      <td>116</td>\n",
       "      <td>gate_30</td>\n",
       "      <td>3</td>\n",
       "      <td>False</td>\n",
       "      <td>False</td>\n",
       "    </tr>\n",
       "    <tr>\n",
       "      <th>1</th>\n",
       "      <td>337</td>\n",
       "      <td>gate_30</td>\n",
       "      <td>38</td>\n",
       "      <td>True</td>\n",
       "      <td>False</td>\n",
       "    </tr>\n",
       "    <tr>\n",
       "      <th>2</th>\n",
       "      <td>377</td>\n",
       "      <td>gate_40</td>\n",
       "      <td>165</td>\n",
       "      <td>True</td>\n",
       "      <td>False</td>\n",
       "    </tr>\n",
       "    <tr>\n",
       "      <th>3</th>\n",
       "      <td>483</td>\n",
       "      <td>gate_40</td>\n",
       "      <td>1</td>\n",
       "      <td>False</td>\n",
       "      <td>False</td>\n",
       "    </tr>\n",
       "    <tr>\n",
       "      <th>4</th>\n",
       "      <td>488</td>\n",
       "      <td>gate_40</td>\n",
       "      <td>179</td>\n",
       "      <td>True</td>\n",
       "      <td>True</td>\n",
       "    </tr>\n",
       "  </tbody>\n",
       "</table>\n",
       "</div>"
      ],
      "text/plain": [
       "   userid  version  sum_gamerounds  retention_1  retention_7\n",
       "0     116  gate_30               3        False        False\n",
       "1     337  gate_30              38         True        False\n",
       "2     377  gate_40             165         True        False\n",
       "3     483  gate_40               1        False        False\n",
       "4     488  gate_40             179         True         True"
      ]
     },
     "execution_count": 2,
     "metadata": {},
     "output_type": "execute_result"
    }
   ],
   "source": [
    "df = pd.read_csv(\"cookie_cats.csv\")\n",
    "df.head()"
   ]
  },
  {
   "cell_type": "markdown",
   "id": "aa1f24d8",
   "metadata": {},
   "source": [
    "### Проверка типов данных и наличия пустых ячеек:"
   ]
  },
  {
   "cell_type": "code",
   "execution_count": 3,
   "id": "322ad7ef",
   "metadata": {},
   "outputs": [
    {
     "name": "stdout",
     "output_type": "stream",
     "text": [
      "<class 'pandas.core.frame.DataFrame'>\n",
      "RangeIndex: 90189 entries, 0 to 90188\n",
      "Data columns (total 5 columns):\n",
      " #   Column          Non-Null Count  Dtype \n",
      "---  ------          --------------  ----- \n",
      " 0   userid          90189 non-null  int64 \n",
      " 1   version         90189 non-null  object\n",
      " 2   sum_gamerounds  90189 non-null  int64 \n",
      " 3   retention_1     90189 non-null  bool  \n",
      " 4   retention_7     90189 non-null  bool  \n",
      "dtypes: bool(2), int64(2), object(1)\n",
      "memory usage: 2.2+ MB\n"
     ]
    }
   ],
   "source": [
    "df.info()"
   ]
  },
  {
   "cell_type": "markdown",
   "id": "8262e1e1",
   "metadata": {},
   "source": [
    "### Проверка на наличие дубликатов:"
   ]
  },
  {
   "cell_type": "code",
   "execution_count": 4,
   "id": "9d9d5d11",
   "metadata": {},
   "outputs": [
    {
     "data": {
      "text/plain": [
       "0"
      ]
     },
     "execution_count": 4,
     "metadata": {},
     "output_type": "execute_result"
    }
   ],
   "source": [
    "df.duplicated().sum()"
   ]
  },
  {
   "cell_type": "markdown",
   "id": "056836b9",
   "metadata": {},
   "source": [
    "Дубликатов нет"
   ]
  },
  {
   "cell_type": "markdown",
   "id": "a1f4c312",
   "metadata": {},
   "source": [
    "### Выкидываем игроков, которые прошли меньше 30 уровней:"
   ]
  },
  {
   "cell_type": "code",
   "execution_count": 5,
   "id": "02767987",
   "metadata": {},
   "outputs": [],
   "source": [
    "df = df[df['sum_gamerounds'] >= 30]"
   ]
  },
  {
   "cell_type": "code",
   "execution_count": 6,
   "id": "47b70d90",
   "metadata": {},
   "outputs": [
    {
     "data": {
      "text/plain": [
       "33269"
      ]
     },
     "execution_count": 6,
     "metadata": {},
     "output_type": "execute_result"
    }
   ],
   "source": [
    "df.shape[0]"
   ]
  },
  {
   "cell_type": "markdown",
   "id": "6feb7ee7",
   "metadata": {},
   "source": [
    "### Уникальные пользователи:"
   ]
  },
  {
   "cell_type": "code",
   "execution_count": 7,
   "id": "5d0dee7c",
   "metadata": {},
   "outputs": [
    {
     "data": {
      "text/plain": [
       "33269"
      ]
     },
     "execution_count": 7,
     "metadata": {},
     "output_type": "execute_result"
    }
   ],
   "source": [
    "df[\"userid\"].nunique()"
   ]
  },
  {
   "cell_type": "markdown",
   "id": "d4aee210",
   "metadata": {},
   "source": [
    "Все пользователи уникальны"
   ]
  },
  {
   "cell_type": "markdown",
   "id": "8f942ffe",
   "metadata": {},
   "source": [
    "## Анализируем retention_1"
   ]
  },
  {
   "cell_type": "markdown",
   "id": "f804c02c",
   "metadata": {},
   "source": [
    "### Разделяем на тестовую и контрольную группы:"
   ]
  },
  {
   "cell_type": "code",
   "execution_count": 8,
   "id": "84e6febe",
   "metadata": {},
   "outputs": [],
   "source": [
    "control_1 = df[df['version'] == 'gate_30'][['retention_1']]\n",
    "test_1 = df[df['version'] == 'gate_40'][['retention_1']]"
   ]
  },
  {
   "cell_type": "markdown",
   "id": "4d726722",
   "metadata": {},
   "source": [
    "### Доли игроков игравших через 1 день после утановки в группах:"
   ]
  },
  {
   "cell_type": "code",
   "execution_count": 9,
   "id": "da668777",
   "metadata": {},
   "outputs": [
    {
     "data": {
      "text/plain": [
       "(0.8009726224783862, 0.8018419310178776)"
      ]
     },
     "execution_count": 9,
     "metadata": {},
     "output_type": "execute_result"
    }
   ],
   "source": [
    " control_1['retention_1'].mean(), test_1['retention_1'].mean()"
   ]
  },
  {
   "cell_type": "markdown",
   "id": "096cfbfa",
   "metadata": {},
   "source": [
    "### Используем односторонний z-критерий для долей:\n",
    "H0: нет статистически значимых различий </br>\n",
    "H1: доля retention_1 в тестовой группе больше </br>\n",
    "уровень значимости: 0.05"
   ]
  },
  {
   "cell_type": "code",
   "execution_count": 10,
   "id": "85e69396",
   "metadata": {},
   "outputs": [],
   "source": [
    "args = {\n",
    "    \"count\": (control_1['retention_1'].sum(), test_1['retention_1'].sum()),\n",
    "    \"nobs\": (control_1.shape[0], test_1.shape[0]),\n",
    "    \"alternative\": \"smaller\"\n",
    "}"
   ]
  },
  {
   "cell_type": "code",
   "execution_count": 11,
   "id": "e07c3f14",
   "metadata": {},
   "outputs": [
    {
     "data": {
      "text/plain": [
       "(-0.19872600068259946, 0.4212385420258285)"
      ]
     },
     "execution_count": 11,
     "metadata": {},
     "output_type": "execute_result"
    }
   ],
   "source": [
    "proportions_ztest(**args)"
   ]
  },
  {
   "cell_type": "markdown",
   "id": "e610abf5",
   "metadata": {},
   "source": [
    "p_value > 0.05 </br>\n",
    "__Вывод: статистически значимых отличий  нет__"
   ]
  },
  {
   "cell_type": "markdown",
   "id": "24d4123f",
   "metadata": {},
   "source": [
    "## Анализируем retention_7"
   ]
  },
  {
   "cell_type": "markdown",
   "id": "389093c7",
   "metadata": {},
   "source": [
    "### Разделяем на тестовую и контрольную группы:"
   ]
  },
  {
   "cell_type": "code",
   "execution_count": 12,
   "id": "e2a4f6dd",
   "metadata": {},
   "outputs": [],
   "source": [
    "control_7 = df[df['version'] == 'gate_30'][['retention_7']]\n",
    "test_7 = df[df['version'] == 'gate_40'][['retention_7']]"
   ]
  },
  {
   "cell_type": "markdown",
   "id": "97aa7923",
   "metadata": {},
   "source": [
    "### Доли игроков игравших через 7 дней после утановки в группах:"
   ]
  },
  {
   "cell_type": "code",
   "execution_count": 13,
   "id": "f9fe176d",
   "metadata": {},
   "outputs": [
    {
     "data": {
      "text/plain": [
       "(0.4387608069164265, 0.4300246794678866)"
      ]
     },
     "execution_count": 13,
     "metadata": {},
     "output_type": "execute_result"
    }
   ],
   "source": [
    "control_7['retention_7'].mean(), test_7['retention_7'].mean()"
   ]
  },
  {
   "cell_type": "markdown",
   "id": "efbcee7a",
   "metadata": {},
   "source": [
    "### Используем односторонний z-критерий для долей:\n",
    "H0: нет статистически значимых различий </br>\n",
    "H1: доля retention_7 в тестовой группе меньше </br>\n",
    "уровень значимости: 0.05"
   ]
  },
  {
   "cell_type": "code",
   "execution_count": 19,
   "id": "53ab1a68",
   "metadata": {},
   "outputs": [],
   "source": [
    "args_7 = {\n",
    "    \"count\": (control_7['retention_7'].sum(), test_7['retention_7'].sum()),\n",
    "    \"nobs\": (control_7.shape[0], test_7.shape[0]),\n",
    "    \"alternative\": \"larger\"\n",
    "}"
   ]
  },
  {
   "cell_type": "code",
   "execution_count": 21,
   "id": "bf0cf907",
   "metadata": {},
   "outputs": [
    {
     "data": {
      "text/plain": [
       "(1.6073448180176597, 0.05398937393767328)"
      ]
     },
     "execution_count": 21,
     "metadata": {},
     "output_type": "execute_result"
    }
   ],
   "source": [
    "proportions_ztest(**args_7)"
   ]
  },
  {
   "cell_type": "markdown",
   "id": "da68420d",
   "metadata": {},
   "source": [
    "p_value > 0.05 </br>\n",
    "__Вывод: статистически значимых отличий  нет__"
   ]
  }
 ],
 "metadata": {
  "kernelspec": {
   "display_name": "Python 3 (ipykernel)",
   "language": "python",
   "name": "python3"
  },
  "language_info": {
   "codemirror_mode": {
    "name": "ipython",
    "version": 3
   },
   "file_extension": ".py",
   "mimetype": "text/x-python",
   "name": "python",
   "nbconvert_exporter": "python",
   "pygments_lexer": "ipython3",
   "version": "3.11.6"
  }
 },
 "nbformat": 4,
 "nbformat_minor": 5
}
