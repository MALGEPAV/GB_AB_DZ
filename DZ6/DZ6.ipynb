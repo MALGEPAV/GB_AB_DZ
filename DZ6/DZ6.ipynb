{
 "cells": [
  {
   "cell_type": "markdown",
   "id": "db37e173",
   "metadata": {},
   "source": [
    "## Задание 1\n",
    "Продакт на главной mail.ru решил протестировать в рекомендательной ленте контента вместо карточек со статьями видеоплеер с короткими видео. Нынешний таймспент на юзера в день в среднем равен 25 минут, а стандартная ошибка (SD) равна 156. Мы предполагаем, что в новой версии таймспент на юзера в день изменится на 10%. Средний трафик 20000 человек в день. Посчитайте сколько дней необходимо держать эксперимент при alpha = 5% и beta = 20% ."
   ]
  },
  {
   "cell_type": "markdown",
   "id": "83ae0ad6",
   "metadata": {},
   "source": [
    "В новой версии ожидается тайиспент:"
   ]
  },
  {
   "cell_type": "code",
   "execution_count": 2,
   "id": "38edad30",
   "metadata": {},
   "outputs": [
    {
     "data": {
      "text/plain": [
       "27.5"
      ]
     },
     "execution_count": 2,
     "metadata": {},
     "output_type": "execute_result"
    }
   ],
   "source": [
    "25+25*0.1"
   ]
  },
  {
   "cell_type": "markdown",
   "id": "ee24f71b",
   "metadata": {},
   "source": [
    "Из калькулятора получаем, что требуется размер выборки 61124"
   ]
  },
  {
   "cell_type": "markdown",
   "id": "a64ba3e5",
   "metadata": {},
   "source": [
    "Отсюда получаем, что для проведения эксперимента потребуется 4 дня"
   ]
  },
  {
   "cell_type": "markdown",
   "id": "4700234f",
   "metadata": {},
   "source": [
    "## Задание 2\n",
    "Наша продуктовая команда в ecommerce магазине планирует запустить тест, направленный на ускорение загрузки сайта. Одна из основных метрик bounce rate в GA = 40%. Мы предполагаем, что при оптимизации сайта она изменится минимум на 20%.Средний трафик 4000 человек в день. Посчитайте сколько нам нужно дней держать эксперимент при alpha = 5% и beta = 20%"
   ]
  },
  {
   "cell_type": "markdown",
   "id": "12bdd6c0",
   "metadata": {},
   "source": [
    "Из калькулятора получаем, что потребуется выборка размером 592 (20% считал как uplift)\n"
   ]
  },
  {
   "cell_type": "markdown",
   "id": "ea2374de",
   "metadata": {},
   "source": [
    "Отсюда получаем, что эксперимент можно провести за 1 день"
   ]
  }
 ],
 "metadata": {
  "kernelspec": {
   "display_name": "Python 3 (ipykernel)",
   "language": "python",
   "name": "python3"
  },
  "language_info": {
   "codemirror_mode": {
    "name": "ipython",
    "version": 3
   },
   "file_extension": ".py",
   "mimetype": "text/x-python",
   "name": "python",
   "nbconvert_exporter": "python",
   "pygments_lexer": "ipython3",
   "version": "3.11.4"
  }
 },
 "nbformat": 4,
 "nbformat_minor": 5
}
