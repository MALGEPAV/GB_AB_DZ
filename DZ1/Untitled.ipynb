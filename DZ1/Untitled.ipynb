{
 "cells": [
  {
   "cell_type": "markdown",
   "id": "34584e3f",
   "metadata": {},
   "source": [
    "## Задание 1\n",
    "Вы провели эксперимент c упрощением формы заказа в магазине Утконос и получили результаты по метрике конверсий в покупку. Выберите метод оценки и оцените есть ли стат.значимые различия между конверсиями в двух группах при alpha = 5%. Дайте краткие рекомендации команде .Результаты: 1)Число юзеров в группах , которые заходили на сайт в период эксперимента: n1 = 15550 и n2 = 15550 . 2) Число юзеров в группах , которые совершили хотя бы одну покупку за период эксперимента: n1 = 164 и n2 = 228 3) Конверсии : conv1 = 1.05% conv2 = 1.47% ."
   ]
  },
  {
   "cell_type": "code",
   "execution_count": 1,
   "id": "a02ef92a",
   "metadata": {},
   "outputs": [],
   "source": [
    "import numpy as np\n",
    "import scipy.stats as stats"
   ]
  },
  {
   "cell_type": "code",
   "execution_count": 2,
   "id": "054b648d",
   "metadata": {},
   "outputs": [],
   "source": [
    "alpha = 0.05\n",
    "n1 = 15550\n",
    "n2 = 15550\n",
    "m1 = 164\n",
    "m2 = 228\n",
    "p1 = m1/n1\n",
    "p2 = m2/n2"
   ]
  },
  {
   "cell_type": "markdown",
   "id": "9d5743c3",
   "metadata": {},
   "source": [
    "Тестируем \"нулевую\" гипотезу об отсутствии статистически значимых различий в долях\n",
    "и \"альтернативную\" о том, что конверсии возросли при помощи одностороннего Z-теста:<br>\n",
    "Н0: Отличия отсутствуют<br>\n",
    "Н1: Отличия есть, а именно доля конверсий стала больше"
   ]
  },
  {
   "cell_type": "code",
   "execution_count": 3,
   "id": "a47e8a73",
   "metadata": {},
   "outputs": [
    {
     "data": {
      "text/plain": [
       "0.012604501607717042"
      ]
     },
     "execution_count": 3,
     "metadata": {},
     "output_type": "execute_result"
    }
   ],
   "source": [
    "p = (m1+m2)/(n1+n2)\n",
    "p"
   ]
  },
  {
   "cell_type": "markdown",
   "id": "51e8e5ae",
   "metadata": {},
   "source": [
    "Наблюдаемое значение:"
   ]
  },
  {
   "cell_type": "code",
   "execution_count": 5,
   "id": "eb9a68fc",
   "metadata": {},
   "outputs": [
    {
     "data": {
      "text/plain": [
       "3.202225742654125"
      ]
     },
     "execution_count": 5,
     "metadata": {},
     "output_type": "execute_result"
    }
   ],
   "source": [
    "z_sample  = ((p2-p1)-(1/2)*(1/n1+1/n2))/np.sqrt(p*(1-p)*(1/n1+1/n2))\n",
    "z_sample"
   ]
  },
  {
   "cell_type": "markdown",
   "id": "64266b4a",
   "metadata": {},
   "source": [
    "Критическое значение:"
   ]
  },
  {
   "cell_type": "code",
   "execution_count": 8,
   "id": "2625505f",
   "metadata": {},
   "outputs": [
    {
     "data": {
      "text/plain": [
       "1.6448536269514722"
      ]
     },
     "execution_count": 8,
     "metadata": {},
     "output_type": "execute_result"
    }
   ],
   "source": [
    "z_crit = stats.norm.ppf(1-alpha)\n",
    "z_crit"
   ]
  },
  {
   "cell_type": "markdown",
   "id": "f311f030",
   "metadata": {},
   "source": [
    "Наблюдаемое значение больше критического, то есть попадает в критическую область, значит отвергаем нулевую гипотезу об отсутствии различий и принимаем альтернативную о том, конверсии выросли."
   ]
  },
  {
   "cell_type": "markdown",
   "id": "ae97f8a3",
   "metadata": {},
   "source": [
    "## Задание 2\n",
    "Сравниваем метрику конверсия в покупку. Размер выборки - 10000 элементов в каждой группе . Какой статистический критерий тут лучше всего подойдёт и почему ?"
   ]
  },
  {
   "cell_type": "markdown",
   "id": "a42b8f6b",
   "metadata": {},
   "source": [
    "Подойдет z-критерий для сравнения долей как в задании 1."
   ]
  }
 ],
 "metadata": {
  "kernelspec": {
   "display_name": "Python 3 (ipykernel)",
   "language": "python",
   "name": "python3"
  },
  "language_info": {
   "codemirror_mode": {
    "name": "ipython",
    "version": 3
   },
   "file_extension": ".py",
   "mimetype": "text/x-python",
   "name": "python",
   "nbconvert_exporter": "python",
   "pygments_lexer": "ipython3",
   "version": "3.11.4"
  }
 },
 "nbformat": 4,
 "nbformat_minor": 5
}
