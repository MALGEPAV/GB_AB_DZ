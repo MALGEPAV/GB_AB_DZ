{
 "cells": [
  {
   "cell_type": "code",
   "execution_count": 1,
   "id": "ecb80af1",
   "metadata": {},
   "outputs": [],
   "source": [
    "import pandas as pd\n",
    "import seaborn as sns\n",
    "import scipy.stats as stats"
   ]
  },
  {
   "cell_type": "markdown",
   "id": "3e46979d",
   "metadata": {},
   "source": [
    "### Считываем данные из экселя:"
   ]
  },
  {
   "cell_type": "code",
   "execution_count": 2,
   "id": "bb08b303",
   "metadata": {},
   "outputs": [
    {
     "name": "stderr",
     "output_type": "stream",
     "text": [
      "/usr/lib/python3/dist-packages/openpyxl/worksheet/_reader.py:312: UserWarning: Unknown extension is not supported and will be removed\n",
      "  warn(msg)\n"
     ]
    }
   ],
   "source": [
    "df = pd.read_excel(\"AB_Test_Results (2) (1).xlsx\")"
   ]
  },
  {
   "cell_type": "code",
   "execution_count": 3,
   "id": "d5d4b19b",
   "metadata": {},
   "outputs": [
    {
     "data": {
      "text/html": [
       "<div>\n",
       "<style scoped>\n",
       "    .dataframe tbody tr th:only-of-type {\n",
       "        vertical-align: middle;\n",
       "    }\n",
       "\n",
       "    .dataframe tbody tr th {\n",
       "        vertical-align: top;\n",
       "    }\n",
       "\n",
       "    .dataframe thead th {\n",
       "        text-align: right;\n",
       "    }\n",
       "</style>\n",
       "<table border=\"1\" class=\"dataframe\">\n",
       "  <thead>\n",
       "    <tr style=\"text-align: right;\">\n",
       "      <th></th>\n",
       "      <th>USER_ID</th>\n",
       "      <th>VARIANT_NAME</th>\n",
       "      <th>REVENUE</th>\n",
       "    </tr>\n",
       "  </thead>\n",
       "  <tbody>\n",
       "    <tr>\n",
       "      <th>0</th>\n",
       "      <td>737</td>\n",
       "      <td>variant</td>\n",
       "      <td>0.0</td>\n",
       "    </tr>\n",
       "    <tr>\n",
       "      <th>1</th>\n",
       "      <td>2423</td>\n",
       "      <td>control</td>\n",
       "      <td>0.0</td>\n",
       "    </tr>\n",
       "    <tr>\n",
       "      <th>2</th>\n",
       "      <td>9411</td>\n",
       "      <td>control</td>\n",
       "      <td>0.0</td>\n",
       "    </tr>\n",
       "    <tr>\n",
       "      <th>3</th>\n",
       "      <td>7311</td>\n",
       "      <td>control</td>\n",
       "      <td>0.0</td>\n",
       "    </tr>\n",
       "    <tr>\n",
       "      <th>4</th>\n",
       "      <td>6174</td>\n",
       "      <td>variant</td>\n",
       "      <td>0.0</td>\n",
       "    </tr>\n",
       "  </tbody>\n",
       "</table>\n",
       "</div>"
      ],
      "text/plain": [
       "   USER_ID VARIANT_NAME  REVENUE\n",
       "0      737      variant      0.0\n",
       "1     2423      control      0.0\n",
       "2     9411      control      0.0\n",
       "3     7311      control      0.0\n",
       "4     6174      variant      0.0"
      ]
     },
     "execution_count": 3,
     "metadata": {},
     "output_type": "execute_result"
    }
   ],
   "source": [
    "df.head()"
   ]
  },
  {
   "cell_type": "markdown",
   "id": "d8a7a7e3",
   "metadata": {},
   "source": [
    "### Проверка на пустые ячейки:"
   ]
  },
  {
   "cell_type": "code",
   "execution_count": 4,
   "id": "9fb52d15",
   "metadata": {},
   "outputs": [
    {
     "name": "stdout",
     "output_type": "stream",
     "text": [
      "<class 'pandas.core.frame.DataFrame'>\n",
      "RangeIndex: 10000 entries, 0 to 9999\n",
      "Data columns (total 3 columns):\n",
      " #   Column        Non-Null Count  Dtype  \n",
      "---  ------        --------------  -----  \n",
      " 0   USER_ID       10000 non-null  int64  \n",
      " 1   VARIANT_NAME  10000 non-null  object \n",
      " 2   REVENUE       10000 non-null  float64\n",
      "dtypes: float64(1), int64(1), object(1)\n",
      "memory usage: 234.5+ KB\n"
     ]
    }
   ],
   "source": [
    "df.info()"
   ]
  },
  {
   "cell_type": "markdown",
   "id": "397741d3",
   "metadata": {},
   "source": [
    "### Проверка на дубликаты:"
   ]
  },
  {
   "cell_type": "code",
   "execution_count": 5,
   "id": "ebbdee0c",
   "metadata": {},
   "outputs": [
    {
     "data": {
      "text/plain": [
       "2067"
      ]
     },
     "execution_count": 5,
     "metadata": {},
     "output_type": "execute_result"
    }
   ],
   "source": [
    "df.duplicated().sum()"
   ]
  },
  {
   "cell_type": "markdown",
   "id": "e67a2a77",
   "metadata": {},
   "source": [
    "### Удаление дубликатов:"
   ]
  },
  {
   "cell_type": "code",
   "execution_count": 6,
   "id": "110baa2e",
   "metadata": {},
   "outputs": [],
   "source": [
    "df = df.drop_duplicates()"
   ]
  },
  {
   "cell_type": "code",
   "execution_count": 7,
   "id": "8b17821a",
   "metadata": {},
   "outputs": [
    {
     "data": {
      "text/plain": [
       "7933"
      ]
     },
     "execution_count": 7,
     "metadata": {},
     "output_type": "execute_result"
    }
   ],
   "source": [
    "df.shape[0]"
   ]
  },
  {
   "cell_type": "markdown",
   "id": "984b9f81",
   "metadata": {},
   "source": [
    "### Проверка: не попал ли какой-нибудь юзер в обе группы:"
   ]
  },
  {
   "cell_type": "code",
   "execution_count": 8,
   "id": "f4c083f3",
   "metadata": {},
   "outputs": [
    {
     "data": {
      "text/html": [
       "<div>\n",
       "<style scoped>\n",
       "    .dataframe tbody tr th:only-of-type {\n",
       "        vertical-align: middle;\n",
       "    }\n",
       "\n",
       "    .dataframe tbody tr th {\n",
       "        vertical-align: top;\n",
       "    }\n",
       "\n",
       "    .dataframe thead th {\n",
       "        text-align: right;\n",
       "    }\n",
       "</style>\n",
       "<table border=\"1\" class=\"dataframe\">\n",
       "  <thead>\n",
       "    <tr style=\"text-align: right;\">\n",
       "      <th></th>\n",
       "      <th>VARIANT_NAME</th>\n",
       "    </tr>\n",
       "    <tr>\n",
       "      <th>USER_ID</th>\n",
       "      <th></th>\n",
       "    </tr>\n",
       "  </thead>\n",
       "  <tbody>\n",
       "    <tr>\n",
       "      <th>2</th>\n",
       "      <td>1</td>\n",
       "    </tr>\n",
       "    <tr>\n",
       "      <th>3</th>\n",
       "      <td>2</td>\n",
       "    </tr>\n",
       "    <tr>\n",
       "      <th>4</th>\n",
       "      <td>1</td>\n",
       "    </tr>\n",
       "    <tr>\n",
       "      <th>5</th>\n",
       "      <td>1</td>\n",
       "    </tr>\n",
       "    <tr>\n",
       "      <th>6</th>\n",
       "      <td>1</td>\n",
       "    </tr>\n",
       "  </tbody>\n",
       "</table>\n",
       "</div>"
      ],
      "text/plain": [
       "         VARIANT_NAME\n",
       "USER_ID              \n",
       "2                   1\n",
       "3                   2\n",
       "4                   1\n",
       "5                   1\n",
       "6                   1"
      ]
     },
     "execution_count": 8,
     "metadata": {},
     "output_type": "execute_result"
    }
   ],
   "source": [
    "check_table  = df.pivot_table(index='USER_ID',\n",
    "                   values='VARIANT_NAME',\n",
    "                   aggfunc='count')\n",
    "check_table.head()"
   ]
  },
  {
   "cell_type": "code",
   "execution_count": 9,
   "id": "1fc26971",
   "metadata": {},
   "outputs": [
    {
     "data": {
      "text/plain": [
       "1579"
      ]
     },
     "execution_count": 9,
     "metadata": {},
     "output_type": "execute_result"
    }
   ],
   "source": [
    "check_table[check_table['VARIANT_NAME']>1].shape[0]"
   ]
  },
  {
   "cell_type": "markdown",
   "id": "8702c7d7",
   "metadata": {},
   "source": [
    "### Убираем таких юзеров"
   ]
  },
  {
   "cell_type": "code",
   "execution_count": 10,
   "id": "66b218bb",
   "metadata": {},
   "outputs": [
    {
     "data": {
      "text/plain": [
       "Int64Index([    3,    10,    18,    25,    40,    57,    60,    64,    67,\n",
       "               86,\n",
       "            ...\n",
       "             9933,  9940,  9942,  9961,  9973,  9978,  9979,  9982,  9996,\n",
       "            10000],\n",
       "           dtype='int64', name='USER_ID', length=1579)"
      ]
     },
     "execution_count": 10,
     "metadata": {},
     "output_type": "execute_result"
    }
   ],
   "source": [
    "user_id_to_delete = check_table[check_table['VARIANT_NAME']>1].index\n",
    "user_id_to_delete\n"
   ]
  },
  {
   "cell_type": "code",
   "execution_count": 11,
   "id": "6e8c9167",
   "metadata": {},
   "outputs": [],
   "source": [
    "for id in user_id_to_delete:\n",
    "    df = df.drop(df[df['USER_ID']==id].index)"
   ]
  },
  {
   "cell_type": "code",
   "execution_count": 12,
   "id": "1e5cfdcb",
   "metadata": {},
   "outputs": [
    {
     "data": {
      "text/plain": [
       "4745"
      ]
     },
     "execution_count": 12,
     "metadata": {},
     "output_type": "execute_result"
    }
   ],
   "source": [
    "df.shape[0]"
   ]
  },
  {
   "cell_type": "markdown",
   "id": "d7c11445",
   "metadata": {},
   "source": [
    "### Проверка нет ли юзеров с разными значениями выручки:"
   ]
  },
  {
   "cell_type": "code",
   "execution_count": 13,
   "id": "6382648e",
   "metadata": {},
   "outputs": [
    {
     "data": {
      "text/plain": [
       "0"
      ]
     },
     "execution_count": 13,
     "metadata": {},
     "output_type": "execute_result"
    }
   ],
   "source": [
    "df[['USER_ID','VARIANT_NAME']].duplicated().sum()"
   ]
  },
  {
   "cell_type": "markdown",
   "id": "6d81861f",
   "metadata": {},
   "source": [
    "### Разбиваем на группы по вариантам:"
   ]
  },
  {
   "cell_type": "code",
   "execution_count": 24,
   "id": "fabba3cd",
   "metadata": {},
   "outputs": [
    {
     "data": {
      "text/plain": [
       "2366"
      ]
     },
     "execution_count": 24,
     "metadata": {},
     "output_type": "execute_result"
    }
   ],
   "source": [
    "control = df[df['VARIANT_NAME'] == 'control'][['REVENUE']]\n",
    "control.shape[0]"
   ]
  },
  {
   "cell_type": "code",
   "execution_count": 23,
   "id": "ac8f0649",
   "metadata": {},
   "outputs": [
    {
     "data": {
      "text/plain": [
       "2379"
      ]
     },
     "execution_count": 23,
     "metadata": {},
     "output_type": "execute_result"
    }
   ],
   "source": [
    "variant  = df[df['VARIANT_NAME'] == 'variant'][['REVENUE']]\n",
    "variant.shape[0]"
   ]
  },
  {
   "cell_type": "markdown",
   "id": "8808db17",
   "metadata": {},
   "source": [
    "### Проверим сколько ненулевых значений:"
   ]
  },
  {
   "cell_type": "code",
   "execution_count": 28,
   "id": "2c92aa00",
   "metadata": {},
   "outputs": [
    {
     "data": {
      "text/plain": [
       "30"
      ]
     },
     "execution_count": 28,
     "metadata": {},
     "output_type": "execute_result"
    }
   ],
   "source": [
    "control[control['REVENUE'] != 0.0].shape[0]"
   ]
  },
  {
   "cell_type": "code",
   "execution_count": 29,
   "id": "3119f7fc",
   "metadata": {},
   "outputs": [
    {
     "data": {
      "text/plain": [
       "28"
      ]
     },
     "execution_count": 29,
     "metadata": {},
     "output_type": "execute_result"
    }
   ],
   "source": [
    "variant[variant['REVENUE'] != 0.0].shape[0]"
   ]
  },
  {
   "cell_type": "markdown",
   "id": "c655c5cf",
   "metadata": {},
   "source": [
    "### Оставляем только ненулевые:"
   ]
  },
  {
   "cell_type": "code",
   "execution_count": 33,
   "id": "0a73c02d",
   "metadata": {},
   "outputs": [],
   "source": [
    "control = control[control['REVENUE'] != 0]"
   ]
  },
  {
   "cell_type": "code",
   "execution_count": 34,
   "id": "313d27fd",
   "metadata": {},
   "outputs": [],
   "source": [
    "variant = variant[variant['REVENUE'] != 0]"
   ]
  },
  {
   "cell_type": "markdown",
   "id": "c91041f6",
   "metadata": {},
   "source": [
    "### Визуализируем:"
   ]
  },
  {
   "cell_type": "code",
   "execution_count": 39,
   "id": "f00761a0",
   "metadata": {},
   "outputs": [
    {
     "data": {
      "text/plain": [
       "<AxesSubplot:ylabel='Count'>"
      ]
     },
     "execution_count": 39,
     "metadata": {},
     "output_type": "execute_result"
    },
    {
     "data": {
      "image/png": "[encoded data removed]",
      "text/plain": [
       "<Figure size 640x480 with 1 Axes>"
      ]
     },
     "metadata": {},
     "output_type": "display_data"
    }
   ],
   "source": [
    "sns.histplot(control)"
   ]
  },
  {
   "cell_type": "code",
   "execution_count": 41,
   "id": "1191d2e5",
   "metadata": {},
   "outputs": [
    {
     "data": {
      "text/plain": [
       "<AxesSubplot:>"
      ]
     },
     "execution_count": 41,
     "metadata": {},
     "output_type": "execute_result"
    },
    {
     "data": {
      "image/png": "[encoded data removed]",
      "text/plain": [
       "<Figure size 640x480 with 1 Axes>"
      ]
     },
     "metadata": {},
     "output_type": "display_data"
    }
   ],
   "source": [
    "sns.boxplot(control)"
   ]
  },
  {
   "cell_type": "code",
   "execution_count": 40,
   "id": "5cc8e2f2",
   "metadata": {},
   "outputs": [
    {
     "data": {
      "text/plain": [
       "<AxesSubplot:ylabel='Count'>"
      ]
     },
     "execution_count": 40,
     "metadata": {},
     "output_type": "execute_result"
    },
    {
     "data": {
      "image/png": "[encoded data removed]",
      "text/plain": [
       "<Figure size 640x480 with 1 Axes>"
      ]
     },
     "metadata": {},
     "output_type": "display_data"
    }
   ],
   "source": [
    "sns.histplot(variant)"
   ]
  },
  {
   "cell_type": "markdown",
   "id": "7e02d440",
   "metadata": {},
   "source": [
    "### Убираем выброс из control"
   ]
  },
  {
   "cell_type": "code",
   "execution_count": 45,
   "id": "11a5eae0",
   "metadata": {},
   "outputs": [],
   "source": [
    "control = control[control['REVENUE']<25]"
   ]
  },
  {
   "cell_type": "markdown",
   "id": "642ce848",
   "metadata": {},
   "source": [
    "### Проверяем нормальность:"
   ]
  },
  {
   "cell_type": "code",
   "execution_count": 52,
   "id": "a2b807b6",
   "metadata": {},
   "outputs": [
    {
     "data": {
      "text/plain": [
       "ShapiroResult(statistic=0.8150686621665955, pvalue=0.00015751055616419762)"
      ]
     },
     "execution_count": 52,
     "metadata": {},
     "output_type": "execute_result"
    }
   ],
   "source": [
    "stats.shapiro(control['REVENUE'])"
   ]
  },
  {
   "cell_type": "code",
   "execution_count": 54,
   "id": "974d892c",
   "metadata": {},
   "outputs": [
    {
     "data": {
      "text/plain": [
       "ShapiroResult(statistic=0.6734342575073242, pvalue=1.2266310704944772e-06)"
      ]
     },
     "execution_count": 54,
     "metadata": {},
     "output_type": "execute_result"
    }
   ],
   "source": [
    "stats.shapiro(variant['REVENUE'])"
   ]
  },
  {
   "cell_type": "markdown",
   "id": "d55919c3",
   "metadata": {},
   "source": [
    "### Вывод - нормальности нет - применяем тест Мана-Уитни"
   ]
  },
  {
   "cell_type": "code",
   "execution_count": 56,
   "id": "db48b190",
   "metadata": {},
   "outputs": [
    {
     "data": {
      "text/plain": [
       "MannwhitneyuResult(statistic=445.5, pvalue=0.5334778920348373)"
      ]
     },
     "execution_count": 56,
     "metadata": {},
     "output_type": "execute_result"
    }
   ],
   "source": [
    "stats.mannwhitneyu(control['REVENUE'],variant['REVENUE'])"
   ]
  },
  {
   "cell_type": "markdown",
   "id": "ef3f3953",
   "metadata": {},
   "source": [
    "# Вывод - статичтически значимых различий нет"
   ]
  },
  {
   "cell_type": "markdown",
   "id": "370af8ac",
   "metadata": {},
   "source": [
    "Хотя мощность мала скорее всего из-за малого размера выборок"
   ]
  }
 ],
 "metadata": {
  "kernelspec": {
   "display_name": "Python 3 (ipykernel)",
   "language": "python",
   "name": "python3"
  },
  "language_info": {
   "codemirror_mode": {
    "name": "ipython",
    "version": 3
   },
   "file_extension": ".py",
   "mimetype": "text/x-python",
   "name": "python",
   "nbconvert_exporter": "python",
   "pygments_lexer": "ipython3",
   "version": "3.11.4"
  }
 },
 "nbformat": 4,
 "nbformat_minor": 5
}
